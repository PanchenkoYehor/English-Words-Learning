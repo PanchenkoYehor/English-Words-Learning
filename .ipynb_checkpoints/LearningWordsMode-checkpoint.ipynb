{
 "cells": [
  {
   "cell_type": "code",
   "execution_count": 1,
   "id": "97eead4f-6731-44f6-ac8b-b53dd8de3f54",
   "metadata": {},
   "outputs": [],
   "source": [
    "import pandas as pd\n",
    "from IPython.display import clear_output\n",
    "import pyperclip\n",
    "import re\n",
    "from tqdm import tqdm"
   ]
  },
  {
   "cell_type": "code",
   "execution_count": 2,
   "id": "068e4622-3990-4011-a167-5c84dae0703d",
   "metadata": {},
   "outputs": [],
   "source": [
    "def GetWords(classes):\n",
    "    words = pd.DataFrame()\n",
    "    for class_name in classes:\n",
    "        words_class = pd.read_csv(class_name)\n",
    "        words = pd.concat([words, words_class])\n",
    "    return words"
   ]
  },
  {
   "cell_type": "code",
   "execution_count": 4,
   "id": "e50b2b22-8821-4385-a796-5acc5ec3a242",
   "metadata": {},
   "outputs": [],
   "source": [
    "words = GetWords([\"Elon-Musk-0-30.csv\"])"
   ]
  },
  {
   "cell_type": "code",
   "execution_count": 9,
   "id": "ab291f43-7f6a-4889-8701-0dbdd4a266a2",
   "metadata": {},
   "outputs": [
    {
     "name": "stderr",
     "output_type": "stream",
     "text": [
      "49it [00:02, 16.49it/s]\n"
     ]
    }
   ],
   "source": [
    "is_exit_pressed = False \n",
    "while not is_exit_pressed:\n",
    "    shuffled = words.sample(words.shape[0])\n",
    "    \n",
    "    for ind, item in tqdm(shuffled.iterrows()):\n",
    "        print('Write word or phrase w.r.t. translation')\n",
    "        print(\"You can use 'answer', 'exit' or 'prev' command\")\n",
    "    \n",
    "        word = list(item.values)\n",
    "        print(word[-1])\n",
    "\n",
    "        tries = [\"\"]\n",
    "        last_hint = 0\n",
    "        while not is_exit_pressed: \n",
    "            custom = [custom_word.strip() for custom_word in re.split('; |, ',input())]\n",
    "            is_correct = custom == word[:1]\n",
    "            if not is_correct:\n",
    "                if custom == [\"answer\"]:\n",
    "                    print(word[:1])\n",
    "                elif custom == [\"exit\"]:\n",
    "                    is_exit_pressed = True\n",
    "                elif custom == [\"prev\"]:\n",
    "                    pyperclip.copy(tries[-1])\n",
    "                elif custom == [\"hint\"]:\n",
    "                    last_hint += 1\n",
    "                    print(word[0][:last_hint])\n",
    "                else:\n",
    "                    print('Incorrect!')\n",
    "                    tries.append(\", \".join(custom))\n",
    "                continue\n",
    "            print('Correct!')\n",
    "            break\n",
    "        clear_output()"
   ]
  }
 ],
 "metadata": {
  "kernelspec": {
   "display_name": "Python 3 (ipykernel)",
   "language": "python",
   "name": "python3"
  },
  "language_info": {
   "codemirror_mode": {
    "name": "ipython",
    "version": 3
   },
   "file_extension": ".py",
   "mimetype": "text/x-python",
   "name": "python",
   "nbconvert_exporter": "python",
   "pygments_lexer": "ipython3",
   "version": "3.9.7"
  }
 },
 "nbformat": 4,
 "nbformat_minor": 5
}
